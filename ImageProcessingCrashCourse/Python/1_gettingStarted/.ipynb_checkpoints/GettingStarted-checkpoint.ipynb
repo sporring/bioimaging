{
 "cells": [
  {
   "cell_type": "markdown",
   "metadata": {},
   "source": [
    "# 1 Getting started with image processing in Python\n",
    "This is module notes for a crash course on image processing using python 3, the skimage and the matplotlib packages, and the jupyter editor.\n",
    "\n",
    "It is not assumed that the student can program and has any background in image processing. It is not a course in the python language, but some exposure to python is needed. The pedagogical plan is: Copy, modify, create. That is, first the student copies code, verify that it works, and reflects on the output. Secondly, some existing code is modified to suit new tasks. Finally, solutions to completely new problems are created by combining and modifying existing code, knowledge, and experiments. Some assignments have been added for the student to test his/her understanding of the material.\n",
    "\n",
    "The module uses 2 images: A green image mainly showing the location of cilia, and a red image showing the location of a protein of interest. The images were provided by Lotte B. Pedersen, University of Copenhagen, for details see Pedersen et al., \"Endocytic control of cellular signaling at the primary cilium\", Trends in biochemical sciences, 2016.\n",
    "\n",
    "The overall task will be to estimate the amount of protein near the cilia using image processing and Python. In this module, we will first look at how to combine the two images programmatically to visually inspect the relation between the cilia and the protein, and later we will make a program to more precisely estimate the amount of protein near the cilia."
   ]
  },
  {
   "cell_type": "markdown",
   "metadata": {},
   "source": [
    "# 1.1 Preliminaries\n",
    "To solve the two tasks, we first need to get familiar with Python and basic operations on images.\n",
    "\n",
    "## 1.1.1 Setup python with additional functions and modified default values\n",
    "First we read some libraries of functions, that we will need, and we setup jupyter's way of handling images."
   ]
  },
  {
   "cell_type": "code",
   "execution_count": null,
   "metadata": {},
   "outputs": [],
   "source": [
    "from skimage import io, morphology, color\n",
    "from matplotlib import pyplot as plt, cm\n",
    "import numpy as np\n",
    "plt.rcParams['image.cmap'] = 'gray' # set default colormap for imshow to be gray"
   ]
  },
  {
   "cell_type": "markdown",
   "metadata": {},
   "source": [
    "## 1.1.2 Images as tables of numbers\n",
    "We are now able to read images using the 'imread' function in the skimage.io library and show them on the screen."
   ]
  },
  {
   "cell_type": "code",
   "execution_count": null,
   "metadata": {},
   "outputs": [],
   "source": [
    "cilia = io.imread(\"Image_34362.tif\")\n",
    "plt.imshow(cilia)\n",
    "plt.xlabel('x')\n",
    "plt.ylabel('y')\n",
    "plt.title('Cilia')"
   ]
  },
  {
   "cell_type": "markdown",
   "metadata": {},
   "source": [
    "This is a digital image, meaning that the light in the microscope has been sampled on a regular grid and stored in a table, which is called cilia."
   ]
  },
  {
   "cell_type": "markdown",
   "metadata": {},
   "source": [
    "**Assignment 1a:** Read the image \"Image_34363.tif\", call it protein, and display it on screen."
   ]
  },
  {
   "cell_type": "code",
   "execution_count": null,
   "metadata": {},
   "outputs": [],
   "source": []
  },
  {
   "cell_type": "markdown",
   "metadata": {},
   "source": [
    "The variable cilia is an object, which in turn is a collection of properties and methods (data and functions), and we can investigate some of the properties of the table as follows:"
   ]
  },
  {
   "cell_type": "code",
   "execution_count": null,
   "metadata": {},
   "outputs": [],
   "source": [
    "print('The image is of type', type(cilia))\n",
    "print('The image has dimensions:', cilia.shape)\n",
    "print(\"The total number of values are:\", cilia.size)"
   ]
  },
  {
   "cell_type": "markdown",
   "metadata": {},
   "source": [
    "This means that the underlying data structure is a 3-dimensional numpy array, where there are 1024 different coordinates along the first axis, 1360 and 3 along the second and third axis. This is typical for a color image, which consists of 3 color planes red, green, and blue. Note that the size property of the cilia object returns the product of 1024, 1360, and 3, but for a color image, we often think of the triple (red, green, blue) as a unit and say that the size of the image is 1024 x 1360. To calculate the size of the color image and print it on screen in a fancy manner, we can do the following:"
   ]
  },
  {
   "cell_type": "code",
   "execution_count": null,
   "metadata": {},
   "outputs": [],
   "source": [
    "s = cilia.shape\n",
    "print(\"The color image has size:\", s[0], \"x\", s[1], \"=\", s[0]*s[1])\n",
    "print(\"The total number of values are:\", s[0]*s[1]*s[2])"
   ]
  },
  {
   "cell_type": "markdown",
   "metadata": {},
   "source": [
    "The elements of the 3 dimensional table can be viewed directly,"
   ]
  },
  {
   "cell_type": "code",
   "execution_count": null,
   "metadata": {},
   "outputs": [],
   "source": [
    "print(\"Its values are\", cilia)"
   ]
  },
  {
   "cell_type": "markdown",
   "metadata": {},
   "source": [
    "What this means is the triple of values in the top corner is [0,5,0], its neighbour is [0,4,0] etc. The image values can be read by indexing, e.g., the top left corner of the red, green and blue channels have indices [0,0,0], [0,0,1], [0,0,2] and the neighbouring (along the second dimension) have indices  [0,1,0], [0,1,1], [0,1,2]:"
   ]
  },
  {
   "cell_type": "code",
   "execution_count": null,
   "metadata": {},
   "outputs": [],
   "source": [
    "print(\"The values of the top corner are (\",cilia[0,0,0],\",\",cilia[0,0,1],\",\",cilia[0,0,2],\")\")\n",
    "print(\"The values of the neighbour are (\",cilia[0,1,0],\",\",cilia[0,1,1],\",\",cilia[0,1,2],\")\")\n",
    "print(\"The type of cilia[0,0,0] is\",type(cilia[0,0,0]))"
   ]
  },
  {
   "cell_type": "markdown",
   "metadata": {},
   "source": [
    "We see that each value has the type 'uint8' which means that it is an unsigned 8-bit integer, which can hold integer values in the range of (0,255). It is typically more practical to access the table-values in groups using 'slicing'. For example, the 3 color values [0,0,0], [0,0,1], [0,0,2] can be access using [0,0,0:3] or equivalently [0,0,:]."
   ]
  },
  {
   "cell_type": "code",
   "execution_count": null,
   "metadata": {},
   "outputs": [],
   "source": [
    "print(\"The color values at [0,0,0], [0,0,1], and [0,0,2] are\",cilia[0,0,0:3])\n",
    "print(\"or using the simpler notation\",cilia[0,0,:])\n",
    "print(\"or using the simpler notation\",cilia[0,:,1])"
   ]
  },
  {
   "cell_type": "markdown",
   "metadata": {},
   "source": [
    "Note that the first number is included and the second is excluded in the range of indices returned in slicing. With slicing, we can separate the image into its color channels. For example, the red channel is cilia[:,:,0], and all 3 channels can be shown individually as follows:"
   ]
  },
  {
   "cell_type": "code",
   "execution_count": null,
   "metadata": {},
   "outputs": [],
   "source": [
    "plt.xlabel('x')\n",
    "plt.ylabel('y')\n",
    "plt.title('red channel')\n",
    "plt.imshow(cilia[:,:,0])\n",
    "plt.show() # Flush the image to screen, since the next 'imshow' is to show a new image\n",
    "plt.xlabel('x')\n",
    "plt.ylabel('y')\n",
    "plt.title('green channel')\n",
    "plt.imshow(cilia[:,:,1])\n",
    "plt.show()\n",
    "plt.xlabel('x')\n",
    "plt.ylabel('y')\n",
    "plt.title('blue channel')\n",
    "plt.imshow(cilia[:,:,2])\n",
    "plt.show()"
   ]
  },
  {
   "cell_type": "markdown",
   "metadata": {},
   "source": [
    "Above we imshow'ed each channel separately and used plt.show() to force every image to be shown on the screen.\n",
    "\n",
    "## 1.1.3 Histograms of images\n",
    "To get an overview of the numerical content of the image, we can examine its range and histogram:"
   ]
  },
  {
   "cell_type": "code",
   "execution_count": null,
   "metadata": {},
   "outputs": [],
   "source": [
    "print(\"The image values range from\", cilia[:,:,1].min(), \"to\", cilia[:,:,1].max())\n",
    "plt.hist(cilia[:,:,1].flatten(),100)\n",
    "plt.xlabel('value')\n",
    "plt.ylabel('count')\n",
    "plt.title('All values in cilia')"
   ]
  },
  {
   "cell_type": "markdown",
   "metadata": {},
   "source": [
    "The histogram only works with 1-dimensional table, so the above 'flattens' the 3-dimensional table before the histogram function is called. The values span the interval (0,142), but the histogram shows that most values are below  20. "
   ]
  },
  {
   "cell_type": "markdown",
   "metadata": {},
   "source": [
    "**Assignment 1b:** Show histogram of the values of the protein table."
   ]
  },
  {
   "cell_type": "code",
   "execution_count": null,
   "metadata": {},
   "outputs": [],
   "source": []
  },
  {
   "cell_type": "markdown",
   "metadata": {},
   "source": [
    "Sliced tables can be used in arithmetic expressions. For example, we can make a new image of the green channel, whose values have been stretched to the range (0,255):"
   ]
  },
  {
   "cell_type": "code",
   "execution_count": null,
   "metadata": {},
   "outputs": [],
   "source": [
    "green = cilia[:,:,1]\n",
    "print(\"The image values range from\", green.min(), \"to\", green.max())\n",
    "stretched = 255.0*(green-green.min())/(green.max()-green.min())\n",
    "print(\"The image values range from\", stretched.min(), \"to\", stretched.max())\n",
    "plt.xlabel('x')\n",
    "plt.ylabel('y')\n",
    "plt.title('stretched green channel')\n",
    "plt.imshow(stretched)\n",
    "plt.show()\n",
    "plt.hist(stretched.flatten(),100)\n",
    "plt.xlabel('value')\n",
    "plt.ylabel('count')\n",
    "plt.title('All values in cilia')"
   ]
  },
  {
   "cell_type": "markdown",
   "metadata": {},
   "source": [
    "When performing arithmetic on a computer, it is very important to understand the types and their limitations. Uint8 only have very few values, no negative, and no fractional values. In the above, part of the calculation maps outside the set of integers in the interval (0,255). To ensure that the calculation, in the end, is correct, we write '255.0' instead of '255' to force the calculation to be in the float type. The float type is a good representation of all rational numbers.\n",
    "\n",
    "Tables may also be combined if they have the same size. For example, the sum of the red and the green channel is:"
   ]
  },
  {
   "cell_type": "code",
   "execution_count": null,
   "metadata": {},
   "outputs": [],
   "source": [
    "redGreen = cilia[:,:,0]+cilia[:,:,1]\n",
    "plt.xlabel('x')\n",
    "plt.ylabel('y')\n",
    "plt.title('sum of red and green')\n",
    "plt.imshow(redGreen)"
   ]
  },
  {
   "cell_type": "markdown",
   "metadata": {},
   "source": [
    "**Assignment 1c:** Calculate the average image of the 3 channels and plot it as a single figure. Print the minimum and maximum value of all the values in all the channels of the initial image, print the the minimum and maximum value of the average image? Does the values meet your expectations?"
   ]
  },
  {
   "cell_type": "code",
   "execution_count": null,
   "metadata": {},
   "outputs": [],
   "source": []
  },
  {
   "cell_type": "markdown",
   "metadata": {},
   "source": [
    "A more elegant method to show several images at a time is to use the subplots function together with a for-loop. A for loop is a counter variable and a block of code that is repeated for each value of the counter value. "
   ]
  },
  {
   "cell_type": "code",
   "execution_count": null,
   "metadata": {},
   "outputs": [],
   "source": [
    "fig, ax = plt.subplots(1, 3, figsize=(15,5)) # figsize sets size in inches\n",
    "for i in range(3):\n",
    "    ax[i].imshow(cilia[:,:,i])\n",
    "    ax[i].set_title(\"Channel \" + str(i))\n",
    "    ax[i].set_xlabel('column')\n",
    "    ax[i].set_ylabel('row')\n",
    "fig.suptitle('Cilia',fontsize=18)"
   ]
  },
  {
   "cell_type": "markdown",
   "metadata": {},
   "source": [
    "The first 2 arguments of the subplots function denote a grid of figures, in this case, 1 row and 3 columns. For a 2x3 grid, ax is indexed as a table such that ax[0,0] is the top left plot and ax[1,2] is the bottom right plot."
   ]
  },
  {
   "cell_type": "markdown",
   "metadata": {},
   "source": [
    "**Assignment 1d:** Make two 2x3 subplot using a for-loop, which shows each color channel in the first row, and the corresponding histogram in the second row in the cilia and protein images respectively."
   ]
  },
  {
   "cell_type": "code",
   "execution_count": null,
   "metadata": {},
   "outputs": [],
   "source": []
  },
  {
   "cell_type": "markdown",
   "metadata": {},
   "source": [
    "# 2 Visual inspection of the amount of protein near the cilia\n",
    "To visually assess the amount of protein near the cilia, we will make a composite image programmatically. The cilia image is mainly green and the protein image is mainly red. This is lucky because then our composite image can be made by combining the green channel from cilia with the red channel from protein."
   ]
  },
  {
   "cell_type": "code",
   "execution_count": null,
   "metadata": {},
   "outputs": [],
   "source": [
    "# beware, must use copy otherwise composit changing imCombine would alse change cilia.\n",
    "# If you want to know more, seek out information on the difference between copy by reference and by value.\n",
    "composit = cilia.copy() \n",
    "composit[:,:,0] = protein[:,:,0]\n",
    "composit[:,:,2] = 0 # All values in the blue channel are set to zero! \n",
    "plt.imshow(composit)\n",
    "plt.xlabel('column')\n",
    "plt.ylabel('row')\n",
    "plt.title('composit image')"
   ]
  },
  {
   "cell_type": "markdown",
   "metadata": {},
   "source": [
    "Alternatively, we could make an average of the two images. This is more complicated since imshow insists on the data being in the range (0,1) for floats or (0,255) for integers. So we stretch the image to the range (0,1)."
   ]
  },
  {
   "cell_type": "code",
   "execution_count": null,
   "metadata": {
    "scrolled": true
   },
   "outputs": [],
   "source": [
    "altComposit = (cilia+protein)/2.0\n",
    "altComposit = (altComposit-altComposit.min())/(altComposit.max()-altComposit.min())\n",
    "plt.imshow(altComposit)\n",
    "plt.xlabel('column')\n",
    "plt.ylabel('row')\n",
    "plt.title('average composit image')"
   ]
  },
  {
   "cell_type": "markdown",
   "metadata": {},
   "source": [
    "For both composites, we see that there are protein many places and that some coincide with one of the cilium.\n",
    "\n",
    "The resulting image can be saved to disk. Unfortunately, we have to convert it to a uint8 type first remembering to stretch it from the interval (0,1) to (0,255):"
   ]
  },
  {
   "cell_type": "code",
   "execution_count": null,
   "metadata": {},
   "outputs": [],
   "source": [
    "altCompositUint8 = 255.0*altComposit\n",
    "altCompositUint8 = altCompositUint8.astype(np.uint8)\n",
    "io.imsave('CombinationOfTwo.tiff',altCompositUint8)"
   ]
  },
  {
   "cell_type": "markdown",
   "metadata": {},
   "source": [
    "# 3 Programmatical estimation of the amount of protein near the cilia.\n",
    "The strategy for estimating the amount of protein near the cilia is \n",
    "1. Segment the cilia.\n",
    "2. Expand the segments slightly.\n",
    "3. Sum the intensity values in the protein image under the expanded cilia mask.\n",
    "\n",
    "## 3.1 Segmenting by thresholding\n",
    "The cilia are mainly green and we have seen that by luck this is mostly captured in the green channel. Thus, in the following we will work with:"
   ]
  },
  {
   "cell_type": "code",
   "execution_count": null,
   "metadata": {},
   "outputs": [],
   "source": [
    "green = cilia[:,:,1]\n",
    "print('(',green.min(),',',green.max(),')')"
   ]
  },
  {
   "cell_type": "markdown",
   "metadata": {},
   "source": [
    "Thresholding is the process of converting an image into a binary or boolean image, where the value 1 or true denotes pixels that belong to the segment and 0 or false denotes pixels that do not. In our case, high values correlate with the location of the cilia and we use the '>' comparison operator (on each pixel):"
   ]
  },
  {
   "cell_type": "code",
   "execution_count": null,
   "metadata": {},
   "outputs": [],
   "source": [
    "segm = green > 75\n",
    "print(\"segm type:\", type(segm))\n",
    "print(\"segm size:\", segm.shape)\n",
    "print(\"segm pixel type:\", type(segm[0,0]))\n",
    "plt.imshow(segm)\n",
    "plt.xlabel('column')\n",
    "plt.ylabel('row')\n",
    "plt.title('cilia segm')"
   ]
  },
  {
   "cell_type": "markdown",
   "metadata": {},
   "source": [
    "We see that the image is 'false' where the green channel of cilia has low values. It is 'true' where values higher than 75 are. The threshold 75 was arbitrarily chosen, so let's investigate several thresholds:"
   ]
  },
  {
   "cell_type": "code",
   "execution_count": null,
   "metadata": {},
   "outputs": [],
   "source": [
    "threshold = [25,75,125]\n",
    "noThresholds = len(threshold)\n",
    "fig, ax = plt.subplots(1, noThresholds, figsize=(15,5))\n",
    "for i in range(noThresholds):\n",
    "    segmTest = green > threshold[i]\n",
    "    ax[i].imshow(segmTest)\n",
    "    ax[i].set_title(\"Threshold \" + str(threshold[i]))\n",
    "    ax[i].set_xlabel('color index')\n",
    "    ax[i].set_ylabel('count')"
   ]
  },
  {
   "cell_type": "markdown",
   "metadata": {},
   "source": [
    "Setting the threshold too low includes non-cilia pixels, while too high misses cilia. So threshold 75 seems to have been an ok choice.\n",
    "\n",
    "## 3.2 Mathematical Morphology\n",
    "The mask shows where the green pixels are, and we would like to investigate the red pixels in the vicinity of the green. So we use Mathematical Morphology to enlarge the mask slightly. Mathematical morphology has two basic operations: dilation and erosion. Dilation means to expand and erosion the opposite. Technically this is done by interacting the segments with a shape, also known as a structuring element. Here we use the simplest structuring element, a disk of radius 10, and to expand the cilia mask we use dilation:"
   ]
  },
  {
   "cell_type": "code",
   "execution_count": null,
   "metadata": {},
   "outputs": [],
   "source": [
    "dsk = morphology.disk(10)\n",
    "msk = morphology.binary_dilation(segm,dsk)\n",
    "plt.imshow(msk)\n",
    "plt.xlabel('column')\n",
    "plt.ylabel('row')\n",
    "plt.title('Dilated green mask')"
   ]
  },
  {
   "cell_type": "markdown",
   "metadata": {},
   "source": [
    "We see that the cilia segments have been expanded, and close inspection will reveal, that they have been expanded with about 20 pixels in an outward direction. Due to its later use, we call the dilated segmented image, the mask."
   ]
  },
  {
   "cell_type": "markdown",
   "metadata": {},
   "source": [
    "**Assignment 1e:** Make a for-loop that tests different disk-radii and choose one that you think will work well for combining it with the protein image."
   ]
  },
  {
   "cell_type": "code",
   "execution_count": null,
   "metadata": {},
   "outputs": [],
   "source": []
  },
  {
   "cell_type": "markdown",
   "metadata": {},
   "source": [
    "## 3.3 Summing in the protein image\n",
    "The protein image is mainly red, and by luck this is captured mainly in the red channel. So, in the following, we will use:"
   ]
  },
  {
   "cell_type": "code",
   "execution_count": null,
   "metadata": {},
   "outputs": [],
   "source": [
    "red = protein[:,:,0]\n",
    "print('(',red.min(),',',red.max(),')')"
   ]
  },
  {
   "cell_type": "markdown",
   "metadata": {},
   "source": [
    "The mask can be used to select pixels in the protien image by multiplication."
   ]
  },
  {
   "cell_type": "code",
   "execution_count": null,
   "metadata": {},
   "outputs": [],
   "source": [
    "redMsk = red*msk\n",
    "plt.imshow(redMsk)\n",
    "plt.xlabel('column')\n",
    "plt.ylabel('row')\n",
    "plt.title('redMsk segm')"
   ]
  },
  {
   "cell_type": "markdown",
   "metadata": {},
   "source": [
    "We see that one cilium has more protein in its vicinity than the other. In this module, we are only interested in summary statistics, so we sum the pixel values in the protein image and compare this with the number of pixels in the mask image."
   ]
  },
  {
   "cell_type": "code",
   "execution_count": null,
   "metadata": {},
   "outputs": [],
   "source": [
    "print(\"Sum of redMsk:\",redMsk.sum())\n",
    "print(\"Area of msk:\",msk.sum())\n",
    "print(\"Average value:\", redMsk.sum()/msk.sum())"
   ]
  },
  {
   "cell_type": "markdown",
   "metadata": {},
   "source": [
    "**Assignment 1f:** Assume that we are interested in the number of high values in the protein image near the cilia, make a program, which chooses a suitable threshold for the protein image and count the number of pixels that are both high in protein and near the cilia."
   ]
  },
  {
   "cell_type": "code",
   "execution_count": null,
   "metadata": {},
   "outputs": [],
   "source": []
  },
  {
   "cell_type": "code",
   "execution_count": null,
   "metadata": {},
   "outputs": [],
   "source": []
  },
  {
   "cell_type": "code",
   "execution_count": null,
   "metadata": {},
   "outputs": [],
   "source": []
  }
 ],
 "metadata": {
  "kernelspec": {
   "display_name": "Python 3 (ipykernel)",
   "language": "python",
   "name": "python3"
  },
  "language_info": {
   "codemirror_mode": {
    "name": "ipython",
    "version": 3
   },
   "file_extension": ".py",
   "mimetype": "text/x-python",
   "name": "python",
   "nbconvert_exporter": "python",
   "pygments_lexer": "ipython3",
   "version": "3.11.4"
  }
 },
 "nbformat": 4,
 "nbformat_minor": 4
}
