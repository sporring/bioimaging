{
 "cells": [
  {
   "cell_type": "markdown",
   "metadata": {},
   "source": [
    "# 3 Bias correction and thresholding\n",
    "Many microscope and medical images have an uneven distribution of light, caused by the physical setup of the imaging device, not the speciment. Here we examine a computed tomography image of a rat's head.\n",
    "\n",
    "It is assumed that the student has completed the previous modules: GettingStarted and VolumeMeasurement. The pedagogical plan is that the student receives the code as a jupyter file, runs each stump, correct possible mistakes, and reflects on the output. Some assignments have been added for the student to test his/hers understanding of the material.\n",
    "\n",
    "The demonstration uses a slice from a CT image of the head of a rat. For further information, contact Maiken Nedergaard, Section for Translational Neuroscience, University of Copenhagen"
   ]
  },
  {
   "cell_type": "markdown",
   "metadata": {},
   "source": [
    "# 3.1 Preliminaries\n",
    "First we setup the Python setting including the libraries, that we are going to use."
   ]
  },
  {
   "cell_type": "code",
   "execution_count": null,
   "metadata": {},
   "outputs": [],
   "source": [
    "from skimage import io, morphology, filters\n",
    "import numpy as np\n",
    "from matplotlib import pyplot as plt, cm\n",
    "plt.rcParams['image.cmap'] = 'gray' # set default colormap for imshow to be gray"
   ]
  },
  {
   "cell_type": "markdown",
   "metadata": {},
   "source": [
    "We read the image and reduce noise by median filtering."
   ]
  },
  {
   "cell_type": "code",
   "execution_count": null,
   "metadata": {},
   "outputs": [],
   "source": [
    "im = io.imread(\"ratBrainTransverse.tiff\")\n",
    "print(type(im[0,0]))\n",
    "print(\"im (mean, min, max):\", im.mean(), im.min(), im.max())\n",
    "\n",
    "dskelm = morphology.disk(1)\n",
    "imFilt = filters.median(im, dskelm)\n",
    "\n",
    "plt.imshow(im)\n",
    "plt.title('CT image')\n",
    "plt.show()\n",
    "plt.imshow(imFilt)\n",
    "plt.title('CT image filtered')\n",
    "plt.show()"
   ]
  },
  {
   "cell_type": "markdown",
   "metadata": {},
   "source": [
    "In this image, we see that there is an uneven lighting, particularly, it is much darker in the bottom right part of the image. Thresholding the non-cavities is expected to work less well for this reason. Let's examine the histogram and try a number of thresholds."
   ]
  },
  {
   "cell_type": "code",
   "execution_count": null,
   "metadata": {},
   "outputs": [],
   "source": [
    "plt.hist(imFilt.flatten(),100)\n",
    "t = 700\n",
    "plt.plot([t,t],[0,1000])\n",
    "plt.title('Histogram and threshold')\n",
    "plt.show()\n",
    "\n",
    "step = 200\n",
    "lst = list(range(100,100+9*step,step))\n",
    "for i in range(len(lst)):\n",
    "    s = lst[i]\n",
    "    brain = imFilt > s\n",
    "    plt.imshow(brain)\n",
    "    plt.title('Segment at '+str(s))\n",
    "    plt.show()\n",
    "\n",
    "tBrain = 600\n",
    "brain = imFilt > tBrain\n",
    "plt.imshow(brain)\n",
    "plt.title('Mask at ' + str(tBrain))\n",
    "plt.show()"
   ]
  },
  {
   "cell_type": "markdown",
   "metadata": {},
   "source": [
    "# 3.2 Bias correction\n",
    "The segmentation is ok, but there is a tradeoff between the fine of detail and the lower right corner. The uneven lighting condition is slowly varying over the image, so we define a function, which fits a second order, two dimensional polynomial to an initial mask. This polynomial we call the bias field."
   ]
  },
  {
   "cell_type": "code",
   "execution_count": null,
   "metadata": {},
   "outputs": [],
   "source": [
    "def biasField(I,mask):\n",
    "    (rows,cols) = I.shape\n",
    "    r, c = np.meshgrid(list(range(rows)), list(range(cols)))\n",
    "    rMsk = r[mask].flatten()\n",
    "    cMsk = c[mask].flatten()\n",
    "    VanderMondeMsk = np.array([rMsk*0+1, rMsk, cMsk, rMsk**2, rMsk*cMsk, cMsk**2]).T\n",
    "    ValsMsk = I[mask].flatten()\n",
    "    coeff, residuals, rank, singularValues = np.linalg.lstsq(VanderMondeMsk, ValsMsk)\n",
    "    VanderMonde = np.array([r*0+1, r, c, r**2, r*c, c**2]).T\n",
    "    J = np.dot(VanderMonde, coeff) # @ operator is a python 3.5 feature!\n",
    "    J = J.reshape((rows,cols)).T\n",
    "    return(J)\n",
    "\n",
    "B = biasField(imFilt, brain)\n",
    "print(\"B (mean, min, max):\", B.mean(), B.min(), B.max())\n",
    "imBias = imFilt-B+B.mean()\n",
    "plt.imshow(imFilt)\n",
    "plt.title('Original')\n",
    "plt.show()\n",
    "plt.imshow(B)\n",
    "plt.title('Bias field')\n",
    "plt.show()\n",
    "plt.imshow(imBias)\n",
    "plt.title('Bias field correted')\n",
    "plt.show()"
   ]
  },
  {
   "cell_type": "markdown",
   "metadata": {},
   "source": [
    "The bias field lifts the lower right. We repeat the exercise for finding the threshold.  "
   ]
  },
  {
   "cell_type": "code",
   "execution_count": null,
   "metadata": {},
   "outputs": [],
   "source": [
    "plt.hist(imBias.flatten(),100)\n",
    "t = 800\n",
    "plt.plot([t,t],[0,1000])\n",
    "plt.title('Histogram and threshold')\n",
    "plt.show()\n",
    "\n",
    "step = 200\n",
    "lst = list(range(100,100+9*step,step))\n",
    "for i in range(len(lst)):\n",
    "    s = lst[i]\n",
    "    brainBias = imBias > s\n",
    "    plt.imshow(brainBias)\n",
    "    plt.title('Segment at '+str(s))\n",
    "    plt.show()\n",
    "\n",
    "tBrainBias = 1200\n",
    "brainBias = imBias > tBrainBias\n",
    "plt.imshow(brainBias)\n",
    "plt.title('Mask at ' + str(tBrainBias))\n",
    "plt.show()"
   ]
  },
  {
   "cell_type": "markdown",
   "metadata": {},
   "source": [
    "The thresholding is now more symmetric, so now we can compare the segments before and after bias correction."
   ]
  },
  {
   "cell_type": "code",
   "execution_count": null,
   "metadata": {},
   "outputs": [],
   "source": [
    "plt.imshow(imFilt)\n",
    "plt.title('Original')\n",
    "plt.show()\n",
    "plt.imshow(brain)\n",
    "plt.title('Original segmented')\n",
    "plt.show()\n",
    "plt.imshow(brainBias)\n",
    "plt.title('Bias corrected segmented')\n",
    "plt.show()"
   ]
  },
  {
   "cell_type": "markdown",
   "metadata": {
    "collapsed": true,
    "jupyter": {
     "outputs_hidden": true
    }
   },
   "source": [
    "**Assignment 3a:** Consider the usefulness of the above procedure for bias correction for the image ratBrainSagittal.tiff"
   ]
  },
  {
   "cell_type": "code",
   "execution_count": null,
   "metadata": {},
   "outputs": [],
   "source": []
  },
  {
   "cell_type": "markdown",
   "metadata": {},
   "source": [
    "**Assigment 3b:** Segment the cavities in the ratBrainTransverse.tiff. Use median filtering and mathematical morphology (dilation, erosion, label) as appropriate."
   ]
  },
  {
   "cell_type": "code",
   "execution_count": null,
   "metadata": {},
   "outputs": [],
   "source": []
  }
 ],
 "metadata": {
  "kernelspec": {
   "display_name": "Python 3 (ipykernel)",
   "language": "python",
   "name": "python3"
  },
  "language_info": {
   "codemirror_mode": {
    "name": "ipython",
    "version": 3
   },
   "file_extension": ".py",
   "mimetype": "text/x-python",
   "name": "python",
   "nbconvert_exporter": "python",
   "pygments_lexer": "ipython3",
   "version": "3.11.7"
  }
 },
 "nbformat": 4,
 "nbformat_minor": 4
}
