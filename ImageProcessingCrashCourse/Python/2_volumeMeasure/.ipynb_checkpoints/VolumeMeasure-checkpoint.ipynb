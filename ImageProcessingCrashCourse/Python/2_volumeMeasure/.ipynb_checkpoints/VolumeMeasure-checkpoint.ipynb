{
 "cells": [
  {
   "cell_type": "markdown",
   "metadata": {},
   "source": [
    "# 2 Volume measuring and smoothing\n",
    "In this module, we will develop a program that segments a computed tomography image of the mandible of a goat with a dental implant, and which measures the relative amount of bone in radial strips from the implant.\n",
    "\n",
    "It is assumed that the student has completed the previous module: GettingStarted. The pedagogical plan is that the student receives the code as a jupyter file, runs each stump, correct possible mistakes, and reflects on the output. Some assignments have been added for the student to test his/her understanding of the material.\n",
    "\n",
    "The demonstration uses a slice from a synchrotron image of a dental implant in the jaw bone of a goat. The image shows the implant and screw, bone, and cavities. For further details, see Neldam et al., Synchrotron Radiation µCT and histology evaluation of bone-to-implant contact, Journal of Cranio-Maxillo-Facial Surgery, 2017 (accepted for publication)"
   ]
  },
  {
   "cell_type": "markdown",
   "metadata": {},
   "source": [
    "# 2.1 Preliminaries\n",
    "First we setup the Python setting including the libraries, that we are going to use."
   ]
  },
  {
   "cell_type": "code",
   "execution_count": null,
   "metadata": {},
   "outputs": [],
   "source": [
    "from skimage import io, morphology, filters, segmentation\n",
    "import numpy as np\n",
    "from matplotlib import pyplot as plt, cm\n",
    "plt.rcParams['image.cmap'] = 'gray' # set default colormap for imshow to be gray"
   ]
  },
  {
   "cell_type": "markdown",
   "metadata": {},
   "source": [
    "We read and display the image"
   ]
  },
  {
   "cell_type": "code",
   "execution_count": null,
   "metadata": {},
   "outputs": [],
   "source": [
    "im = io.imread(\"implant.tiff\")\n",
    "print(type(im[0,0]))\n",
    "plt.imshow(im)\n",
    "plt.xlabel('x')\n",
    "plt.ylabel('y')\n",
    "plt.title('CT image')"
   ]
  },
  {
   "cell_type": "markdown",
   "metadata": {},
   "source": [
    "The image contains mainly 3 types of material: implants (light gray), bone (medium gray), cavities (dark gray). We take the simple approach of segmenting the image by thresholding. First we examine the intensity histogram, and then we set thresholds by eyeballing."
   ]
  },
  {
   "cell_type": "code",
   "execution_count": null,
   "metadata": {},
   "outputs": [],
   "source": [
    "plt.hist(im.flatten(),100)\n",
    "tBone = 103\n",
    "tImplt = 140\n",
    "plt.plot([tBone, tBone], [0, 80000], 'r-')\n",
    "plt.plot([tImplt, tImplt], [0, 80000], 'r-')\n",
    "plt.title('Histogram and thresholds')\n",
    "plt.show()\n",
    "\n",
    "implt = im > tImplt\n",
    "bone = np.logical_and(tBone < im, im < tImplt)\n",
    "rest = np.logical_not(np.logical_or(implt,bone))\n",
    "plt.imshow(implt)\n",
    "plt.title('Implant')\n",
    "plt.show()\n",
    "plt.imshow(bone)\n",
    "plt.title('Bone')\n",
    "plt.show()\n",
    "plt.imshow(rest)\n",
    "plt.title('Rest');\n",
    "plt.show()"
   ]
  },
  {
   "cell_type": "markdown",
   "metadata": {},
   "source": [
    "The result is fairly close to our expectation but noisy. To get an idea of the noise, we zoom in on a region of the image."
   ]
  },
  {
   "cell_type": "code",
   "execution_count": null,
   "metadata": {},
   "outputs": [],
   "source": [
    "rowFrom, rowTo = 300, 400\n",
    "colFrom, colTo = 150, 250\n",
    "plt.imshow(im[rowFrom:rowTo,colFrom:colTo])\n",
    "plt.title(\"Zoom of original\")\n",
    "plt.show()\n",
    "plt.imshow(bone[rowFrom:rowTo,colFrom:colTo])\n",
    "plt.title(\"Zoom of bone mask\")\n",
    "plt.show()\n",
    "plt.imshow(rest[rowFrom:rowTo,colFrom:colTo])\n",
    "plt.title(\"Zoom of rest mask\")\n",
    "plt.show()"
   ]
  },
  {
   "cell_type": "markdown",
   "metadata": {},
   "source": [
    "**Assignment 2a:** Make for loop that plots the result of using a number of different thresholds in order to search for a possibly better separation of bone and cavity."
   ]
  },
  {
   "cell_type": "code",
   "execution_count": null,
   "metadata": {},
   "outputs": [],
   "source": []
  },
  {
   "cell_type": "markdown",
   "metadata": {},
   "source": [
    "# 2.2 Noise removal\n",
    "We see that bone regions have dark pixels and cavity regions have light pixels. We consider this as noise and will apply a noise reducing median filtering before thresholding: Median filtering replaces each pixel value with the median of nearby intensities."
   ]
  },
  {
   "cell_type": "code",
   "execution_count": null,
   "metadata": {},
   "outputs": [],
   "source": [
    "dskelm = morphology.disk(3)\n",
    "imFilt = filters.median(im, dskelm)\n",
    "impltFilt = imFilt > tImplt\n",
    "boneFilt = np.logical_and(tBone < imFilt, imFilt < tImplt)\n",
    "restFilt = np.logical_not(np.logical_or(impltFilt,boneFilt))\n",
    "\n",
    "plt.imshow(imFilt)\n",
    "plt.title(\"Smoothed original\")\n",
    "plt.show()\n",
    "plt.imshow(boneFilt)\n",
    "plt.title(\"Smoothed bone mask\")\n",
    "plt.show()\n",
    "plt.imshow(restFilt)\n",
    "plt.title(\"Smoothed rest mask\")\n",
    "plt.show()\n",
    "plt.imshow(imFilt[rowFrom:rowTo,colFrom:colTo])\n",
    "plt.title(\"Zoom of smoothed original\")\n",
    "plt.show()\n",
    "plt.imshow(boneFilt[rowFrom:rowTo,colFrom:colTo])\n",
    "plt.title(\"Zoom of smoothed bone mask\")\n",
    "plt.show()\n",
    "plt.imshow(restFilt[rowFrom:rowTo,colFrom:colTo])\n",
    "plt.title(\"Zoom of smoothed rest mask\")\n",
    "plt.show()"
   ]
  },
  {
   "cell_type": "markdown",
   "metadata": {},
   "source": [
    "The image is now much smoother, and the segments without noise. However, we see that sharp corners have also been reduced. I.e., filtering cannot easily distinquish between noise and small structure."
   ]
  },
  {
   "cell_type": "markdown",
   "metadata": {},
   "source": [
    "**Assignment 2b:** Make a for loop for different disk sizes and choose what you think is optimal?"
   ]
  },
  {
   "cell_type": "code",
   "execution_count": null,
   "metadata": {},
   "outputs": [],
   "source": []
  },
  {
   "cell_type": "markdown",
   "metadata": {},
   "source": [
    "We will now study the image outside the implant. Since our plan is to use dilation, we must first close the hole in the implant. For this we use the concept of convex hull."
   ]
  },
  {
   "cell_type": "code",
   "execution_count": null,
   "metadata": {},
   "outputs": [],
   "source": [
    "impltFiltLabels = morphology.label(impltFilt)\n",
    "plt.imshow(impltFiltLabels)\n",
    "plt.title(\"Labels for filtered Implant\")\n",
    "plt.show()\n",
    "hull = morphology.convex_hull_image(impltFiltLabels==1)\n",
    "plt.imshow(hull)\n",
    "plt.title(\"Convex hull of label 1\")\n",
    "plt.show()"
   ]
  },
  {
   "cell_type": "markdown",
   "metadata": {},
   "source": [
    "Now we use dilation to iteratively expand the implant mask. By keeping the previous mask, we can calculate the difference, hence, a roundish strip. The strip is then used to isolate pixel values in the bone mask and calculate the relative number of pixels per area of the strip. This is then plottet."
   ]
  },
  {
   "cell_type": "code",
   "execution_count": null,
   "metadata": {},
   "outputs": [],
   "source": [
    "dskRadius = 10\n",
    "dskelm = morphology.disk(dskRadius)\n",
    "noSteps = int(100/dskRadius) # Convert to integer\n",
    "boneFraction = np.zeros(noSteps)\n",
    "hull = morphology.convex_hull_image(impltFiltLabels==1)\n",
    "for i in range(noSteps):\n",
    "    hullNext = morphology.binary_dilation(hull, dskelm)\n",
    "    hullDiff = np.logical_and(hullNext, np.logical_not(hull))\n",
    "    hull = hullNext\n",
    "    boneSlice = hullDiff*boneFilt\n",
    "    boneFraction[i] = float(boneSlice.sum())/float(hullDiff.sum()) # Note conversion to float!!!!\n",
    "    plt.imshow(boneSlice)\n",
    "    plt.title(\"bone strip \"+str(i*dskRadius)+\" to \"+str((i+1)*dskRadius)+\": \"+str(boneFraction[i]))\n",
    "    plt.show()\n",
    "xCenter = np.linspace(dskRadius,dskRadius*(noSteps+1),len(boneFraction))-dskRadius/2\n",
    "plt.plot(xCenter,boneFraction)\n",
    "plt.xlabel('Distance to implant')\n",
    "plt.ylabel('Fraction')\n",
    "plt.title('Bone fraction by distance to implant')"
   ]
  },
  {
   "cell_type": "markdown",
   "metadata": {
    "collapsed": true,
    "jupyter": {
     "outputs_hidden": true
    }
   },
   "source": [
    "**Assigment 2c:** Repeat the above with thinner strips and thicker strips and plot the bone fraction graph. What is the thinnest and thickest possible? What is the consequences of varying the strip thickness?"
   ]
  },
  {
   "cell_type": "code",
   "execution_count": null,
   "metadata": {},
   "outputs": [],
   "source": []
  }
 ],
 "metadata": {
  "kernelspec": {
   "display_name": "Python 3 (ipykernel)",
   "language": "python",
   "name": "python3"
  },
  "language_info": {
   "codemirror_mode": {
    "name": "ipython",
    "version": 3
   },
   "file_extension": ".py",
   "mimetype": "text/x-python",
   "name": "python",
   "nbconvert_exporter": "python",
   "pygments_lexer": "ipython3",
   "version": "3.11.7"
  }
 },
 "nbformat": 4,
 "nbformat_minor": 4
}
